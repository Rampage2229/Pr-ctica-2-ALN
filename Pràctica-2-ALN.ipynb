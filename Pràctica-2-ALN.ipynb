{
 "cells": [
  {
   "cell_type": "markdown",
   "id": "44e017cb",
   "metadata": {},
   "source": [
    "# Exercici 0:\n",
    "\n",
    "\n",
    "\n"
   ]
  },
  {
   "cell_type": "markdown",
   "id": "2716a900",
   "metadata": {},
   "source": [
    "Posem en una cel·la els codis dels mètodes de Jacobi, Gauss-Seidel i de $\\omega$-relaxació"
   ]
  },
  {
   "cell_type": "code",
   "execution_count": 42,
   "id": "6e81f432",
   "metadata": {},
   "outputs": [],
   "source": [
    "import numpy as np\n",
    "\n",
    "def norma(u):\n",
    "    return np.sqrt(sum(u**2))\n",
    "\n",
    "def wrelax(A, b, x0, w, abstol=1.e-10, reltol=1.e-10, maxIter=1000):\n",
    "    Emin = min (reltol*norma(x0),abstol)\n",
    "    m, n = A.shape    \n",
    "    x = x0.copy()\n",
    "    i = 0\n",
    "    acabat = False\n",
    "    while not acabat:\n",
    "        i = i + 1\n",
    "        x0 = x.copy()\n",
    "        for j in range(n): \n",
    "            x[j] = (1-w) * x[j] + (w/A[j,j]) * (b[j] - sum(A[j, :]*x[:]) + A[j,j]*x[j])\n",
    "        Emin = min (reltol*norma(x),Emin)\n",
    "        if((norma(x0 - x) < Emin) or i > maxIter):\n",
    "            acabat = True\n",
    "        \n",
    "        if(i > maxIter):\n",
    "            if(norma(x0 - x) > abstol and norma(x0-x) / norma(x) < reltol):\n",
    "                return x, -1\n",
    "            if(norma(x0 - x) > abstol and norma(x0-x) / norma(x) > reltol):\n",
    "                return x, -2\n",
    "            return x, -3\n",
    "    return x, i\n",
    "\n",
    "def Jacobi(A,b, x, abstol=1.e-10, reltol=1.e-10, maxIter = 1000):\n",
    "  n = x.size\n",
    "  xk = x.copy()\n",
    "  atol = False\n",
    "  rtol = False\n",
    "  for k in range (maxIter):\n",
    "    s = 0\n",
    "    for i in range (n):\n",
    "      s = sum(A[i,:]*x[:])\n",
    "      s -= A[i,i]*x[i]\n",
    "      xk[i] = 1/(A[i,i])*(b[i] - s)\n",
    "    if atol == False and norma(xk - x) < abstol:\n",
    "      atol = True\n",
    "    if rtol == False and norma(xk-x)/norma(xk) < reltol:\n",
    "      rtol = True\n",
    "    if (atol and rtol):\n",
    "      return xk, k\n",
    "    x = xk.copy()\n",
    "  if rtol:\n",
    "    return xk, -1\n",
    "  elif atol:\n",
    "    return xk, -2\n",
    "  return xk, -3"
   ]
  },
  {
   "cell_type": "markdown",
   "id": "fc045ee5",
   "metadata": {},
   "source": [
    "Creem la matriu A i els vectors b i $x_0$. Després apliquem els codis dels dos mètodes. \n",
    "\n",
    "En el cas del mètode de Gauss-Seidel donem a $\\omega$ el valor  $\\omega = 1$ ja que tots dos tenen el mateix codi."
   ]
  },
  {
   "cell_type": "code",
   "execution_count": 43,
   "id": "a64d38c2",
   "metadata": {},
   "outputs": [
    {
     "name": "stdout",
     "output_type": "stream",
     "text": [
      "Jacobi : (array([ 4.,  7.,  9., 10., 10.,  9.,  7.,  4.]), 373)\n",
      "GS : (array([ 4.,  7.,  9., 10., 10.,  9.,  7.,  4.]), 194)\n"
     ]
    }
   ],
   "source": [
    "A = np.zeros((8,8), dtype = np.float64) #Creem la matriu A del sistema.\n",
    "for i in range (8):\n",
    "    A[i,i] = 2\n",
    "for i in range (7):\n",
    "    A[i,i+1] = -1\n",
    "    A[i+1,i] = -1\n",
    "\n",
    "b = np.array([1,1,1,1,1,1,1,1], dtype = np.float64)\n",
    "x = np.array([1,1,1,1,1,1,1,1], dtype = np.float64)\n",
    "\n",
    "print (f\"Jacobi : {Jacobi(A,b,x)}\")\n",
    "print (f\"GS : {wrelax(A,b,x,1)}\") # Apliquem el mètode de relaxació amb omega=1\n"
   ]
  },
  {
   "cell_type": "markdown",
   "id": "f7d1f6d1",
   "metadata": {},
   "source": [
    "Veiem doncs que farem 373 iteracions amb el mètode de Jacobi i 194 si el fem amb el mètode de Gauss-Seidel.\n",
    "\n",
    "Calculem ara el valor òptim de $\\omega$ per al mètode de $\\omega$-relaxació successiva i les iteracions necessàries.\n",
    "\n",
    "Primer de tot, cal que determinem la matriu $G_1$. Ho farem resolent el sistema $$ (D+L) \\cdot G_1 = D - U $$\n",
    "\n",
    "Invertim la matriu D+L, ja que no és gaire difícil i el seu cost no serà gaire alt. Per \n",
    "\n",
    "On G_1 és la incògni"
   ]
  },
  {
   "cell_type": "code",
   "execution_count": 62,
   "id": "211e31a1",
   "metadata": {},
   "outputs": [
    {
     "name": "stdout",
     "output_type": "stream",
     "text": [
      "[[0.  0.5 0.  0.  0.  0.  0.  0. ]\n",
      " [0.  0.  0.5 0.  0.  0.  0.  0. ]\n",
      " [0.  0.  0.  0.5 0.  0.  0.  0. ]\n",
      " [0.  0.  0.  0.  0.5 0.  0.  0. ]\n",
      " [0.  0.  0.  0.  0.  0.5 0.  0. ]\n",
      " [0.  0.  0.  0.  0.  0.  0.5 0. ]\n",
      " [0.  0.  0.  0.  0.  0.  0.  0.5]\n",
      " [0.  0.  0.  0.  0.  0.  0.  0. ]]\n"
     ]
    }
   ],
   "source": [
    "from scipy.linalg import solve_triangular\n",
    "\n",
    "A = np.zeros((8,8), dtype = np.float64) #Creem la matriu A del sistema.\n",
    "for i in range (8):\n",
    "    A[i,i] = 2\n",
    "for i in range (7):\n",
    "    A[i,i+1] = -1\n",
    "    A[i+1,i] = -1\n",
    "\n",
    "b = np.array([1,1,1,1,1,1,1,1], dtype = np.float64)\n",
    "x = np.array([1,1,1,1,1,1,1,1], dtype = np.float64)\n",
    "\n",
    "\"\"\"X = solve_triangular(A,np.eye(8),lower = True)\n",
    "\n",
    "print (U,X)\n",
    "print (X*U)\"\"\"\n",
    "U = np.zeros((8,8), dtype = np.float64) \n",
    "for i in range (7):\n",
    "    U[i,i+1] = 1\n",
    "print(solve_triangular(A+U,U))\n"
   ]
  },
  {
   "cell_type": "code",
   "execution_count": 64,
   "id": "a6dc1f2f",
   "metadata": {},
   "outputs": [
    {
     "name": "stdout",
     "output_type": "stream",
     "text": [
      "1.0\n"
     ]
    }
   ],
   "source": [
    "\n",
    "\n",
    "wopt = 2/(1+ np.sqrt(1))\n",
    "print (wopt)"
   ]
  },
  {
   "cell_type": "markdown",
   "id": "136f392e",
   "metadata": {},
   "source": [
    "# Exercici 1\n",
    "Cal crear una funció que resolgui una EDO, donada una funció F."
   ]
  },
  {
   "cell_type": "code",
   "execution_count": 68,
   "id": "4d343b45",
   "metadata": {},
   "outputs": [
    {
     "data": {
      "image/png": "[encoded data removed]",
      "text/plain": [
       "<Figure size 600x500 with 1 Axes>"
      ]
     },
     "metadata": {},
     "output_type": "display_data"
    },
    {
     "name": "stdout",
     "output_type": "stream",
     "text": [
      "1.0685505050503792\n",
      "1.084719515151389\n",
      "-0.8084505050504953\n",
      "1.0\n"
     ]
    }
   ],
   "source": [
    "import numpy as np\n",
    "import math\n",
    "import matplotlib.pyplot as plt\n",
    "def solEstEq1D(a, b, ca, cb, N, F, maxIter=1.e5, tol=1.e-10):\n",
    "    #On a i b són els extrems del interval, i ca i cb són els punts extrems\n",
    "    #Definim el vector u i l'inicialitzem:\n",
    "    u0 = (ca + cb) / 2\n",
    "    u = np.full((N), u0, dtype=np.float64)\n",
    "    u[0] = ca\n",
    "    u[-1] = cb\n",
    "    Fi = np.empty((N), dtype=np.float64)\n",
    "    delta = (b - a)/N\n",
    "    for i in range(N):\n",
    "        Fi[i] = F(a + delta*i)\n",
    "\n",
    "    for i in range(int(maxIter)):\n",
    "        u[1:N-1] = (u[:N-2]+u[2:] + delta**2 * Fi[1:N-1])/2\n",
    "    return(u, 0)\n",
    "\n",
    "\n",
    "\n",
    "\n",
    "def dibuixaSol1D(u,a,b,titol='Exemple'):\n",
    "    # Nombre de punts:\n",
    "    Nplus1 = u.shape[0]\n",
    "\n",
    "    # Malla equiespaiada:\n",
    "    x = np.linspace(a,b,Nplus1)\n",
    "\n",
    "    # Obrim la Figura i dibuixem:\n",
    "    plt.figure(figsize=(6, 5))\n",
    "\n",
    "    # Plot:\n",
    "    plt.plot(x, u, label=\"Solució\", color=\"b\", linewidth=2)\n",
    "\n",
    "    # Eixos i llegenda\n",
    "    plt.xlabel(\"x\")\n",
    "    plt.ylabel(\"u(x)\")\n",
    "    plt.title(titol)\n",
    "    plt.grid(True)\n",
    "    plt.legend()\n",
    "\n",
    "    # Mostrem el dibuix:\n",
    "    plt.show()\n",
    "def funcio(x):\n",
    "    return x**2\n",
    "\n",
    "\n",
    "N = 100\n",
    "a,b = 0, 2\n",
    "ca,cb = 0,1\n",
    "\n",
    "u,niter = solEstEq1D(a, b, ca, cb, N, funcio, maxIter = 1.e5)\n",
    "dibuixaSol1D(u,a,b)\n",
    "print(u[50])\n",
    "print(u[51])\n",
    "print((u[50]-u[51])*N / (b - a))\n",
    "print(funcio(a + 50*(b-a)/N))"
   ]
  },
  {
   "cell_type": "code",
   "execution_count": null,
   "id": "29418d4c",
   "metadata": {},
   "outputs": [],
   "source": []
  }
 ],
 "metadata": {
  "kernelspec": {
   "display_name": "Python 3",
   "language": "python",
   "name": "python3"
  },
  "language_info": {
   "codemirror_mode": {
    "name": "ipython",
    "version": 3
   },
   "file_extension": ".py",
   "mimetype": "text/x-python",
   "name": "python",
   "nbconvert_exporter": "python",
   "pygments_lexer": "ipython3",
   "version": "3.12.3"
  }
 },
 "nbformat": 4,
 "nbformat_minor": 5
}
