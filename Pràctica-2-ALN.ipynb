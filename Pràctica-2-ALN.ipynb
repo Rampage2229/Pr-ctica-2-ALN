{
 "cells": [
  {
   "cell_type": "code",
   "execution_count": null,
   "id": "6e81f432",
   "metadata": {},
   "outputs": [],
   "source": [
    "import numpy as np\n",
    "\n",
    "def norma(u):\n",
    "    return np.sqrt(sum(u**2))\n",
    "\n",
    "def wrelax(A, b, x0, w, abstol=1.e-10, reltol=1.e-10, maxIter=100):\n",
    "    m, n = A.shape\n",
    "    #Comprovar dimensions i coses\n",
    "    \n",
    "    x = x0.copy()\n",
    "    i = 0\n",
    "    acabat = False\n",
    "    while not acabat:\n",
    "\n",
    "        i = i + 1\n",
    "        x0 = x.copy()\n",
    "        #Anar fent\n",
    "\n",
    "        for j in range(n): \n",
    "            x[j] = (1-w) * x[j] + (w/A[j,j]) * (b[j] - sum(A[j, :]*x[:]) + A[j,j]*x[j])\n",
    "        \n",
    "        #Comprovar coses\n",
    "        \n",
    "        if((norma(x0 - x) < abstol or norma(x0-x) / norma(x) < reltol) and i > 1):\n",
    "            acabat = True\n",
    "        \n",
    "        if(i > maxIter):\n",
    "            if(norma(x0 - x) > abstol and norma(x0-x) / norma(x) < reltol):\n",
    "                return x, -1\n",
    "            if(norma(x0 - x) > abstol and norma(x0-x) / norma(x) > reltol):\n",
    "                return x, -2\n",
    "            return x, -3\n",
    "    return x, i"
   ]
  }
 ],
 "metadata": {
  "kernelspec": {
   "display_name": "Python 3 (ipykernel)",
   "language": "python",
   "name": "python3"
  },
  "language_info": {
   "codemirror_mode": {
    "name": "ipython",
    "version": 3
   },
   "file_extension": ".py",
   "mimetype": "text/x-python",
   "name": "python",
   "nbconvert_exporter": "python",
   "pygments_lexer": "ipython3",
   "version": "3.12.3"
  }
 },
 "nbformat": 4,
 "nbformat_minor": 5
}
