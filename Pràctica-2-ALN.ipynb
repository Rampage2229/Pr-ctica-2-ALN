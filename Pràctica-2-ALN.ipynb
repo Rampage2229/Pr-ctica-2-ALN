{
 "cells": [
  {
   "cell_type": "markdown",
   "id": "96a084bf",
   "metadata": {},
   "source": [
    "# Exercici 0:\n",
    "\n",
    "\n",
    "\n"
   ]
  },
  {
   "cell_type": "markdown",
   "id": "b7627f02",
   "metadata": {},
   "source": [
    "Posem en una cel·la els codis dels mètodes de Jacobi, Gauss-Seidel i de $\\omega$-relaxació"
   ]
  },
  {
   "cell_type": "code",
   "execution_count": 1,
   "id": "c0ebe6fe",
   "metadata": {},
   "outputs": [],
   "source": [
    "import numpy as np\n",
    "\n",
    "def norma(u):\n",
    "    return np.sqrt(sum(u**2))\n",
    "\n",
    "def wrelax(A, b, x0, w, abstol=1.e-10, reltol=1.e-10, maxIter=1000):\n",
    "    Emin = min (reltol*norma(x0),abstol)\n",
    "    m, n = A.shape\n",
    "    x = x0.copy()\n",
    "    i = 0\n",
    "    acabat = False\n",
    "    while not acabat:\n",
    "        i = i + 1\n",
    "        x0 = x.copy()\n",
    "        for j in range(n):\n",
    "            x[j] = (1-w) * x[j] + (w/A[j,j]) * (b[j] - sum(A[j, :]*x[:]) + A[j,j]*x[j])\n",
    "        Emin = min (reltol*norma(x),Emin)\n",
    "        if((norma(x0 - x) < Emin) or i > maxIter):\n",
    "            acabat = True\n",
    "\n",
    "        if(i > maxIter):\n",
    "            if(norma(x0 - x) > abstol and norma(x0-x) / norma(x) < reltol):\n",
    "                return x, -1\n",
    "            if(norma(x0 - x) > abstol and norma(x0-x) / norma(x) > reltol):\n",
    "                return x, -2\n",
    "            return x, -3\n",
    "    return x, i\n",
    "\n",
    "def Jacobi(A,b, x, abstol=1.e-10, reltol=1.e-10, maxIter = 1000):\n",
    "  n = x.size\n",
    "  xk = x.copy()\n",
    "  atol = False\n",
    "  rtol = False\n",
    "  for k in range (maxIter):\n",
    "    s = 0\n",
    "    for i in range (n):\n",
    "      s = sum(A[i,:]*x[:])\n",
    "      s -= A[i,i]*x[i]\n",
    "      xk[i] = 1/(A[i,i])*(b[i] - s)\n",
    "    if atol == False and norma(xk - x) < abstol:\n",
    "      atol = True\n",
    "    if rtol == False and norma(xk-x)/norma(xk) < reltol:\n",
    "      rtol = True\n",
    "    if (atol and rtol):\n",
    "      return xk, k\n",
    "    x = xk.copy()\n",
    "  if rtol:\n",
    "    return xk, -1\n",
    "  elif atol:\n",
    "    return xk, -2\n",
    "  return xk, -3"
   ]
  },
  {
   "cell_type": "markdown",
   "id": "09c3d4f7",
   "metadata": {},
   "source": [
    "Creem la matriu A i els vectors b i $x_0$. Després apliquem els codis dels dos mètodes.\n",
    "\n",
    "En el cas del mètode de Gauss-Seidel donem a $\\omega$ el valor  $\\omega = 1$ ja que tots dos tenen el mateix codi."
   ]
  },
  {
   "cell_type": "code",
   "execution_count": 2,
   "id": "120d5869",
   "metadata": {},
   "outputs": [
    {
     "name": "stdout",
     "output_type": "stream",
     "text": [
      "Jacobi : (array([ 4.,  7.,  9., 10., 10.,  9.,  7.,  4.]), 373)\n",
      "GS : (array([ 4.,  7.,  9., 10., 10.,  9.,  7.,  4.]), 194)\n",
      "w1.5 : (array([ 4.,  7.,  9., 10., 10.,  9.,  7.,  4.]), 39)\n"
     ]
    }
   ],
   "source": [
    "A = np.zeros((8,8), dtype = np.float64) #Creem la matriu A del sistema.\n",
    "for i in range (8):\n",
    "    A[i,i] = 2\n",
    "for i in range (7):\n",
    "    A[i,i+1] = -1\n",
    "    A[i+1,i] = -1\n",
    "\n",
    "b = np.array([1,1,1,1,1,1,1,1], dtype = np.float64)\n",
    "x = np.array([1,1,1,1,1,1,1,1], dtype = np.float64)\n",
    "\n",
    "print (f\"Jacobi : {Jacobi(A,b,x)}\")\n",
    "print (f\"GS : {wrelax(A,b,x,1)}\") # Apliquem el mètode de relaxació amb omega=1\n",
    "print (f\"w1.5 : {wrelax(A,b,x,1.50)}\") # Encara cal justificar!!!!!!!!!!!!!!!!!!!!!!!!!!!!!!!\n"
   ]
  },
  {
   "cell_type": "markdown",
   "id": "9701532e",
   "metadata": {},
   "source": [
    "Veiem doncs que farem 373 iteracions amb el mètode de Jacobi i 194 si el fem amb el mètode de Gauss-Seidel.\n",
    "\n",
    "Calculem ara el valor òptim de $\\omega$ per al mètode de $\\omega$-relaxació successiva i les iteracions necessàries.\n",
    "\n",
    "Primer de tot, cal que determinem la matriu $G_1$. Ho farem resolent el sistema $$ (D+L) \\cdot G_1 = D - U $$\n",
    "\n",
    "Invertim la matriu D+L, ja que no és gaire difícil i el seu cost no serà gaire alt. Per\n",
    "\n",
    "On G_1 és la incògni"
   ]
  },
  {
   "cell_type": "code",
   "execution_count": 3,
   "id": "702ce301",
   "metadata": {},
   "outputs": [
    {
     "name": "stdout",
     "output_type": "stream",
     "text": [
      "[[ 0.         -0.5         0.          0.          0.          0.\n",
      "   0.          0.        ]\n",
      " [ 0.         -0.25       -0.5         0.          0.          0.\n",
      "   0.          0.        ]\n",
      " [ 0.         -0.125      -0.25       -0.5         0.          0.\n",
      "   0.          0.        ]\n",
      " [ 0.         -0.0625     -0.125      -0.25       -0.5         0.\n",
      "   0.          0.        ]\n",
      " [ 0.         -0.03125    -0.0625     -0.125      -0.25       -0.5\n",
      "   0.          0.        ]\n",
      " [ 0.         -0.015625   -0.03125    -0.0625     -0.125      -0.25\n",
      "  -0.5         0.        ]\n",
      " [ 0.         -0.0078125  -0.015625   -0.03125    -0.0625     -0.125\n",
      "  -0.25       -0.5       ]\n",
      " [ 0.         -0.00390625 -0.0078125  -0.015625   -0.03125    -0.0625\n",
      "  -0.125      -0.25      ]]\n"
     ]
    }
   ],
   "source": [
    "from scipy.linalg import solve_triangular\n",
    "\n",
    "A = np.zeros((8,8), dtype = np.float64) #Creem la matriu A del sistema.\n",
    "for i in range (8):\n",
    "    A[i,i] = 2\n",
    "for i in range (7):\n",
    "    A[i,i+1] = -1\n",
    "    A[i+1,i] = -1\n",
    "\n",
    "b = np.array([1,1,1,1,1,1,1,1], dtype = np.float64)\n",
    "x = np.array([1,1,1,1,1,1,1,1], dtype = np.float64)\n",
    "\n",
    "U = np.zeros((8,8), dtype = np.float64)\n",
    "for i in range (7):\n",
    "    U[i,i+1] = -1\n",
    "G1 = solve_triangular(A-U,U,lower = True) #obtenim la matriu de la que cal fer el radi espectral\n",
    "print (G1)\n",
    "\n"
   ]
  },
  {
   "cell_type": "code",
   "execution_count": 4,
   "id": "523324ff",
   "metadata": {},
   "outputs": [
    {
     "name": "stdout",
     "output_type": "stream",
     "text": [
      "1.0\n"
     ]
    }
   ],
   "source": [
    "\n",
    "wopt = 2/(1+ np.sqrt(1))\n",
    "print (wopt)"
   ]
  },
  {
   "cell_type": "markdown",
   "id": "a6c9dbdc",
   "metadata": {},
   "source": [
    "# Exercici 1\n",
    "Cal crear una funció que resolgui una EDO, donada una funció F."
   ]
  },
  {
   "cell_type": "code",
   "execution_count": null,
   "id": "08e12e5d",
   "metadata": {},
   "outputs": [
    {
     "data": {
      "image/png": "[encoded data removed]",
      "text/plain": [
       "<Figure size 600x500 with 1 Axes>"
      ]
     },
     "metadata": {},
     "output_type": "display_data"
    },
    {
     "name": "stdout",
     "output_type": "stream",
     "text": [
      "Aproximaxió de f(pi): 2.9674011002719896\n"
     ]
    }
   ],
   "source": [
    "import numpy as np\n",
    "import math\n",
    "import matplotlib.pyplot as plt\n",
    "def solEstEq1D(a, b, ca, cb, N, F, maxIter=1.e5, tol=1.e-10):\n",
    "    #On a i b són els extrems del interval, i ca i cb són els punts extrems\n",
    "    #Definim el vector u i l'inicialitzem:\n",
    "    u0 = (ca + cb) / 2\n",
    "    u = np.full((N+1), u0, dtype=np.float64)\n",
    "    u[0] = ca\n",
    "    u[-1] = cb\n",
    "    Fi = np.empty((N+1), dtype=np.float64)\n",
    "    delta = (b - a)/N\n",
    "    for i in range(N+1):\n",
    "        Fi[i] = F(a + delta*i)\n",
    "\n",
    "    for i in range(int(maxIter)):\n",
    "        u[1:N] = (u[:N-1]+u[2:] + delta**2 * Fi[1:N])/2\n",
    "    return(u, 0)\n",
    "\n",
    "\n",
    "\n",
    "\n",
    "def dibuixaSol1D(u,a,b,titol='Exemple'):\n",
    "    # Nombre de punts:\n",
    "    Nplus1 = u.shape[0]\n",
    "\n",
    "    # Malla equiespaiada:\n",
    "    x = np.linspace(a,b,Nplus1)\n",
    "\n",
    "    # Obrim la Figura i dibuixem:\n",
    "    plt.figure(figsize=(6, 5))\n",
    "\n",
    "    # Plot:\n",
    "    plt.plot(x, u, label=\"Solució\", color=\"b\", linewidth=2)\n",
    "\n",
    "    # Eixos i llegenda\n",
    "    plt.xlabel(\"x\")\n",
    "    plt.ylabel(\"u(x)\")\n",
    "    plt.title(titol)\n",
    "    plt.grid(True)\n",
    "    plt.legend()\n",
    "\n",
    "    # Mostrem el dibuix:\n",
    "    plt.show()\n",
    "\n",
    "def funcio(x):\n",
    "    return np.sin(x)**2\n",
    "\n",
    "N = 100\n",
    "a,b = 0, 2*np.pi\n",
    "ca,cb = 0,1\n",
    "\n",
    "u,niter = solEstEq1D(a, b, ca, cb, N, funcio, maxIter = 1.e5)\n",
    "dibuixaSol1D(u,a,b)\n",
    "print(f\"Aproximaxió de f(pi): {(u[50])}\")\n"
   ]
  },
  {
   "cell_type": "code",
   "execution_count": 9,
   "id": "027ae33e",
   "metadata": {},
   "outputs": [
    {
     "data": {
      "image/png": "[encoded data removed]",
      "text/plain": [
       "<Figure size 600x500 with 1 Axes>"
      ]
     },
     "metadata": {},
     "output_type": "display_data"
    },
    {
     "name": "stdout",
     "output_type": "stream",
     "text": [
      "Aproximaxió de f(pi): 2.9674011002719896\n"
     ]
    }
   ],
   "source": [
    "def funcio2(x):\n",
    "    return np.sin(x)**2\n",
    "\n",
    "N = 100\n",
    "a,b = 0, 2*np.pi\n",
    "ca,cb = 0,1\n",
    "\n",
    "u,niter = solEstEq1D(a, b, ca, cb, N, funcio2, maxIter = 1.e5)\n",
    "dibuixaSol1D(u,a,b)\n",
    "print(f\"Aproximaxió de f(pi): {(u[50])}\")\n"
   ]
  },
  {
   "cell_type": "markdown",
   "id": "c79f464d",
   "metadata": {},
   "source": [
    "# Exercici 2:"
   ]
  },
  {
   "cell_type": "markdown",
   "id": "eb5f3bc8",
   "metadata": {},
   "source": [
    "Primer, posem el codi de la funció plotFME amb la qual representarem la temperatura de la FME."
   ]
  },
  {
   "cell_type": "code",
   "execution_count": 1,
   "id": "dda9c051",
   "metadata": {},
   "outputs": [],
   "source": [
    "import numpy as np\n",
    "import matplotlib.pyplot as plt\n",
    "from ipywidgets import interact, FloatSlider\n",
    "\n",
    "def plotFME(U,umin=None, umax=None):\n",
    "    \"\"\"\n",
    "    Visualització interactiva de la temperatura de la FME\n",
    "\n",
    "    Paràmetres:\n",
    "    -----------\n",
    "    U : array 3D\n",
    "        Dades a visualitzar (shape: [N+1, M+1, P+1], suposem N > M)\n",
    "    umin, umax : float\n",
    "        Valors màxims per la colorbar (si és None, s'autoajusten)\n",
    "    \"\"\"\n",
    "    # Dimensions u:\n",
    "    Np1,Mp1,Pp1 = U.shape\n",
    "\n",
    "\n",
    "    # Dimensions de la FME:\n",
    "    x = np.linspace(0, 134, num=Np1)\n",
    "    y = np.linspace(0, 64, num=Mp1)\n",
    "    X, Y = np.meshgrid(x, y)\n",
    "\n",
    "    # Recuperem el factor:\n",
    "    P = Pp1-1\n",
    "    scale = P/6;\n",
    "\n",
    "    # Determinem els límits de les temperatures\n",
    "    if umin is None:\n",
    "        umin = np.nanmin(U)\n",
    "    if umax is None:\n",
    "        umax = np.nanmax(U)\n",
    "\n",
    "    # Funció per actualitzar l'slider\n",
    "    def update(index=0):\n",
    "        plt.figure(figsize=(14, 6))\n",
    "\n",
    "        v = U[:, :, int(index*scale)]\n",
    "\n",
    "        # Mapa de colors:\n",
    "        plot = plt.pcolor(X, Y, v.T, cmap='RdBu_r', vmin=umin, vmax=umax)\n",
    "\n",
    "        # Corbes de nivell\n",
    "        cset = plt.contour(X, Y, v.T, cmap='gray', levels=np.linspace(umin, umax, 10))\n",
    "        plt.clabel(cset, inline=True)\n",
    "\n",
    "        # Ajustem aspecte\n",
    "        plt.gca().set_aspect('equal', adjustable='box')\n",
    "        plt.title(f'Alçada: {index} m')\n",
    "\n",
    "        # Afegim colorbar\n",
    "        plt.colorbar(plot, label='Valor')\n",
    "        plt.show()\n",
    "\n",
    "    # Creem slider interactiu\n",
    "    interact(\n",
    "        update,\n",
    "        index=FloatSlider(\n",
    "            min=0,\n",
    "            max=6,\n",
    "            step=1/scale,\n",
    "            value=0,  # Valor inicial\n",
    "            description='Alçada:',\n",
    "            continuous_update=False  # Només s'actualitza al deixar anar l'slider\n",
    "        )\n",
    "    )"
   ]
  },
  {
   "cell_type": "markdown",
   "id": "2845f56f",
   "metadata": {},
   "source": [
    "Abans de començar cap calcul, cal que creem la matriu u que cal resoldre. Així doncs, amb la informació que tenim del pdf d'Atenea establim les temperatures de les fronteres."
   ]
  },
  {
   "cell_type": "markdown",
   "id": "c9307513",
   "metadata": {},
   "source": [
    "Un cop ja tenim tot l'espai dissenyat utilitzem el mètode de Jacobi per resoldre l'equació homogènia estacionària."
   ]
  },
  {
   "cell_type": "code",
   "execution_count": null,
   "id": "f6298235",
   "metadata": {},
   "outputs": [
    {
     "name": "stdout",
     "output_type": "stream",
     "text": [
      "1066\n"
     ]
    },
    {
     "data": {
      "application/vnd.jupyter.widget-view+json": {
       "model_id": "b998f1b95a7640fa97c7e92940b6ffd1",
       "version_major": 2,
       "version_minor": 0
      },
      "text/plain": [
       "interactive(children=(FloatSlider(value=0.0, continuous_update=False, description='Alçada:', max=6.0, step=0.5…"
      ]
     },
     "metadata": {},
     "output_type": "display_data"
    }
   ],
   "source": [
    "# Importem les llibreries que utilitzarem\n",
    "import numpy as np\n",
    "\n",
    "# Establim el domini [a,b]x[c,d]x[e,f]\n",
    "a, b = 0, 268\n",
    "c, d = 0, 128\n",
    "e, f = 0, 12\n",
    "N, M, P = 268, 128, 12\n",
    "\n",
    "## Inicialitzem la matriu u, on guardarem la solució:\n",
    "u = 25.5*np.ones((N+1,M+1,P+1))\n",
    "\n",
    "# Imposem les condicions de frontera i els punts d'intersecció\n",
    "u[:,0,:] = 20.5  # Frontera TA\n",
    "u[42:227,105,:] = 20.5  # Frontera Ta\n",
    "u[0,:,:] = 20.5  # Frontera TB\n",
    "u[227,24:105,:] = 20.5  # Frontera Tb\n",
    "u[:,-1,:] = 30.4 # Frontera TC\n",
    "u[42:227,24,:] = 30.4 # Frontera Tc\n",
    "u[-1,:,:] = 25.3 # Frontera TD\n",
    "u[42,24:105,:] = 25.3 # Frontera Td\n",
    "u[:,:,-1] = 33 # Frontera Te\n",
    "u[:,:,0] = 18 # Frontera Tf\n",
    "\n",
    "\n",
    "u[42,24,:] = (30.4 + 25.3)/2\n",
    "u[42,105,:] = (25.3 + 20.5)/2\n",
    "u[227,24,:] = (20.5 + 30.4)/2\n",
    "u[227,105,:] = (20.5 + 20.5)/2\n",
    "\n",
    "\n",
    "u0 = u.copy()\n",
    "um = 1\n",
    "k = 0\n",
    "while  um > 10**(-8) :\n",
    "    u[1:41,1:-1,1:-1] = (u0[2:42,1:-1,1:-1] + u0[:40,1:-1,1:-1] + u0[1:41,2:,1:-1] + u0[1:41,:-2,1:-1] + u0[1:41,1:-1,:-2] + u0[1:41,1:-1,2:])/6 # Primer bloc (columna esquerra)\n",
    "    u[228:-1,1:-1,1:-1] = (u0[229:,1:-1,1:-1] + u0[227:-2,1:-1,1:-1] + u0[228:-1,2:,1:-1] + u0[228:-1,:-2,1:-1] + u0[228:-1,1:-1,2:] + u0[228:-1,1:-1,:-2])/6 # Segon bloc (columna dreta)\n",
    "    u[41:228,1:23,1:-1] = (u0[40:227,1:23,1:-1] + u0[42:229,1:23,1:-1] + u0[41:228,:22,1:-1] + u0[41:228,2:24,1:-1] + u0[41:228,1:23,:-2] + u0[41:228,1:23,2:])/6 # Tercer bloc (fila superior)\n",
    "    u[41:228,104:-1,1:-1] = (u0[40:227,104:-1,1:-1] + u0[42:229,104:-1,1:-1] + u0[41:228,103:-2,1:-1] + u0[41:228,105:,1:-1] + u0[41:228,104:-1,:-2] + u0[41:228,104:-1,2:])/6 # Quart bloc (fila inferior)\n",
    "    um = np.amax(u0 - u)\n",
    "    u0 = u.copy()\n",
    "    k +=1\n",
    "\n",
    "\n",
    "# Fem nan els valors del pati abans de dibuixar-los:\n",
    "u0[43:226, 25:104, :] = np.nan\n",
    "print (k)\n",
    "\n",
    "# Dibuixem:\n",
    "plotFME(u0)\n"
   ]
  },
  {
   "cell_type": "code",
   "execution_count": 3,
   "id": "1f4758ea",
   "metadata": {},
   "outputs": [
    {
     "name": "stdout",
     "output_type": "stream",
     "text": [
      "1072\n"
     ]
    },
    {
     "ename": "NameError",
     "evalue": "name 'plotFME' is not defined",
     "output_type": "error",
     "traceback": [
      "\u001b[31m---------------------------------------------------------------------------\u001b[39m",
      "\u001b[31mNameError\u001b[39m                                 Traceback (most recent call last)",
      "\u001b[36mCell\u001b[39m\u001b[36m \u001b[39m\u001b[32mIn[3]\u001b[39m\u001b[32m, line 50\u001b[39m\n\u001b[32m     47\u001b[39m \u001b[38;5;28mprint\u001b[39m (k)\n\u001b[32m     49\u001b[39m \u001b[38;5;66;03m# Dibuixem:\u001b[39;00m\n\u001b[32m---> \u001b[39m\u001b[32m50\u001b[39m \u001b[43mplotFME\u001b[49m(u0)\n",
      "\u001b[31mNameError\u001b[39m: name 'plotFME' is not defined"
     ]
    }
   ],
   "source": [
    "#Blanca 20.1 20.1 30.9 25.1 33 18\n",
    "\n",
    "# Importem les llibreries que utilitzarem\n",
    "import numpy as np\n",
    "\n",
    "# Establim el domini [a,b]x[c,d]x[e,f]\n",
    "a, b = 0, 268\n",
    "c, d = 0, 128\n",
    "e, f = 0, 12\n",
    "N, M, P = 268, 128, 12\n",
    "\n",
    "## Inicialitzem la matriu u, on guardarem la solució:\n",
    "u = 25.5*np.ones((N+1,M+1,P+1))\n",
    "\n",
    "# Imposem les condicions de frontera i els punts d'intersecció\n",
    "u[:,0,:] = 20.1  # Frontera TA\n",
    "u[42:227,105,:] = 20.1  # Frontera Ta\n",
    "u[0,:,:] = 20.1  # Frontera TB\n",
    "u[227,24:105,:] = 20.1  # Frontera Tb\n",
    "u[:,-1,:] = 30.9 # Frontera TC\n",
    "u[42:227,24,:] = 30.9 # Frontera Tc\n",
    "u[-1,:,:] = 25.1 # Frontera TD\n",
    "u[42,24:105,:] = 25.1 # Frontera Td\n",
    "u[:,:,-1] = 33 # Frontera Te\n",
    "u[:,:,0] = 18 # Frontera Tf\n",
    "\n",
    "u[42,24,:] = (30.9 + 25.1)/2\n",
    "u[42,105,:] = (25.1 + 20.1)/2\n",
    "u[227,24,:] = (20.1 + 30.9)/2\n",
    "u[227,105,:] = (20.1 + 20.1)/2\n",
    "\n",
    "\n",
    "u0 = u.copy()\n",
    "um = 1\n",
    "k = 0\n",
    "while  um > 10**(-8) :\n",
    "    u[1:41,1:-1,1:-1] = (u0[2:42,1:-1,1:-1] + u0[:40,1:-1,1:-1] + u0[1:41,2:,1:-1] + u0[1:41,:-2,1:-1] + u0[1:41,1:-1,:-2] + u0[1:41,1:-1,2:])/6 # Primer bloc (columna esquerra)\n",
    "    u[228:-1,1:-1,1:-1] = (u0[229:,1:-1,1:-1] + u0[227:-2,1:-1,1:-1] + u0[228:-1,2:,1:-1] + u0[228:-1,:-2,1:-1] + u0[228:-1,1:-1,2:] + u0[228:-1,1:-1,:-2])/6 # Segon bloc (columna dreta)\n",
    "    u[41:228,1:23,1:-1] = (u0[40:227,1:23,1:-1] + u0[42:229,1:23,1:-1] + u0[41:228,:22,1:-1] + u0[41:228,2:24,1:-1] + u0[41:228,1:23,:-2] + u0[41:228,1:23,2:])/6 # Tercer bloc (fila superior)\n",
    "    u[41:228,104:-1,1:-1] = (u0[40:227,104:-1,1:-1] + u0[42:229,104:-1,1:-1] + u0[41:228,103:-2,1:-1] + u0[41:228,105:,1:-1] + u0[41:228,104:-1,:-2] + u0[41:228,104:-1,2:])/6 # Quart bloc (fila inferior)\n",
    "    um = np.amax(u0 - u)\n",
    "    u0 = u.copy()\n",
    "    k +=1\n",
    "\n",
    "# Fem nan els valors del pati abans de dibuixar-los:\n",
    "u0[43:226, 25:104, :] = np.nan\n",
    "print (k)\n",
    "\n",
    "# Dibuixem:\n",
    "plotFME(u0)"
   ]
  },
  {
   "cell_type": "markdown",
   "id": "0d25bd84",
   "metadata": {},
   "source": [
    "Un cop ja tenim calculades les temperatures de tots els punts de la FME, després de 1072 iteracions, calculem la temperatura mitjana de l'aula PC2:"
   ]
  },
  {
   "cell_type": "code",
   "execution_count": null,
   "id": "a48029ca",
   "metadata": {},
   "outputs": [],
   "source": [
    "print (f\"{np.sum(u[:17,78:108,:6])/(17*30*6)}ºC\")"
   ]
  },
  {
   "cell_type": "markdown",
   "id": "7a1fa882",
   "metadata": {},
   "source": [
    "Així doncs la temperatura mitjana de l'aula PC2 és "
   ]
  },
  {
   "cell_type": "code",
   "execution_count": null,
   "id": "45c8847e",
   "metadata": {},
   "outputs": [
    {
     "name": "stdout",
     "output_type": "stream",
     "text": [
      "Nodes: 804000\n",
      "2191\n",
      "19.971154517521967ºC\n"
     ]
    },
    {
     "data": {
      "application/vnd.jupyter.widget-view+json": {
       "model_id": "cf6f27fdb590499ab814e84e2dda67c5",
       "version_major": 2,
       "version_minor": 0
      },
      "text/plain": [
       "interactive(children=(FloatSlider(value=0.0, continuous_update=False, description='Alçada:', max=6.0, step=0.4…"
      ]
     },
     "metadata": {},
     "output_type": "display_data"
    }
   ],
   "source": [
    "import numpy as np\n",
    "\n",
    "def temperatura_FME(Ta, Tb, Tc, Td, Te, Tf, tol=1.e-8, maxIter = 100, h=0.5, T0=25.5):\n",
    "    #INPUT:\n",
    "    #En aquesta funció podem introduïr les tempeartures incials de les parets,\n",
    "    #La tolerància del mètode, el nombre màxim d'iteracions, la mida de la\n",
    "    # malla i la temperatura inicial del sistema.\n",
    "\n",
    "    #OUTPUT:\n",
    "    #Escriu per pantalla el nombre de nodes calculats\n",
    "    N, M, P = int(np.trunc(134/h)), int(np.trunc(64/h)), int(np.trunc(6/h))\n",
    "    a, b = 0, N\n",
    "    c, d = 0, M\n",
    "    e, f = 0, P\n",
    "    print(f\"Nodes: {N*M*P}\")\n",
    "    u = T0*np.ones((N+1,M+1,P+1))\n",
    "    S = int(np.trunc(21/h))\n",
    "    T = int(np.trunc(12/h))\n",
    "\n",
    "    \n",
    "    # Imposem les condicions de frontera i els punts d'intersecció\n",
    "    u[:,0,:] = Tc  # Frontera TC\n",
    "    u[S:N-S+1,M-T+1,:] = Tc  # Frontera Tc\n",
    "    u[0,:,:] = Tb  # Frontera TB\n",
    "    u[N-S+1,T:M-T+1,:] = Tb  # Frontera Tb\n",
    "    u[:,-1,:] = Ta # Frontera TA\n",
    "    u[S:N-S+1,T,:] = Ta # Frontera Ta\n",
    "    u[-1,:,:] = Td # Frontera TD\n",
    "    u[S,T:M-T+1,:] = Td # Frontera Td\n",
    "    u[:,:,-1] = Te # Frontera Te\n",
    "    u[:,:,0] = Tf # Frontera Tf\n",
    "\n",
    "    u[S,T,:] = (Tc + Td)/2\n",
    "    u[S,M-T+1,:] = (Td + Ta)/2\n",
    "    u[N-S+1,T,:] = (Tb + Tc)/2\n",
    "    u[N-S+1,M-T+1,:] = (Ta + Tb)/2\n",
    "\n",
    "    u0 = u.copy()\n",
    "    um = 1\n",
    "    k = 0\n",
    "    while  um > tol and k <= maxIter:\n",
    "        u[1:S-1,1:-1,1:-1] = (u0[2:S,1:-1,1:-1] + u0[:S-2,1:-1,1:-1] + u0[1:S-1,2:,1:-1] + u0[1:S-1,:-2,1:-1] + u0[1:S-1,1:-1,:-2] + u0[1:S-1,1:-1,2:])/6 # Primer bloc (columna esquerra)\n",
    "        u[N-S:-1,1:-1,1:-1] = (u0[N-S+1:,1:-1,1:-1] + u0[N-S-1:-2,1:-1,1:-1] + u0[N-S:-1,2:,1:-1] + u0[N-S:-1,:-2,1:-1] + u0[N-S:-1,1:-1,2:] + u0[N-S:-1,1:-1,:-2])/6 # Segon bloc (columna dreta)\n",
    "        u[S-1:N-S,1:T-1,1:-1] = (u0[S-2:N-S-1,1:T-1,1:-1] + u0[S:N-S+1,1:T-1,1:-1] + u0[S-1:N-S,:T-2,1:-1] + u0[S-1:N-S,2:T,1:-1] + u0[S-1:N-S,1:T-1,:-2] + u0[S-1:N-S,1:T-1,2:])/6 # Tercer bloc (fila superior)\n",
    "        u[S-1:N-S,M-T:-1,1:-1] = (u0[S-2:N-S-1,M-T:-1,1:-1] + u0[S:N-S+1,M-T:-1,1:-1] + u0[S-1:N-S,M-T-1:-2,1:-1] + u0[S-1:N-S,M-T+1:,1:-1] + u0[S-1:N-S,M-T:-1,:-2] + u0[S-1:N-S,M-T:-1,2:])/6 # Quart bloc (fila inferior)\n",
    "        um = np.amax(u0 - u)\n",
    "        u0 = u.copy()\n",
    "        k +=1\n",
    "    u[S:N-S, T:M-T, :] = np.nan\n",
    "    return u0, k\n",
    "\n",
    "#Blanca Ta Ta Tc Td Te Tf\n",
    "\n",
    "u, k = temperatura_FME(20.1, 20.1, 30.9, 25.1, 33, 18, h=0.4, T0 = 25.5, tol=1.e-10, maxIter = 1.e4)\n",
    "print(k)\n",
    "print (f\"{np.sum(u[:17,78:108,:6])/(17*30*6)}ºC\")\n",
    "plotFME(u)"
   ]
  },
  {
   "cell_type": "code",
   "execution_count": null,
   "id": "d0ce2def",
   "metadata": {},
   "outputs": [],
   "source": []
  },
  {
   "cell_type": "code",
   "execution_count": null,
   "id": "57077ed0",
   "metadata": {},
   "outputs": [
    {
     "name": "stdout",
     "output_type": "stream",
     "text": [
      "Nodes: 411648\n",
      "1027\n",
      "23.06410485750288ºC\n"
     ]
    },
    {
     "data": {
      "application/vnd.jupyter.widget-view+json": {
       "model_id": "194819a86bb947feb325020923b4efa3",
       "version_major": 2,
       "version_minor": 0
      },
      "text/plain": [
       "interactive(children=(FloatSlider(value=0.0, continuous_update=False, description='Alçada:', max=6.0, step=0.5…"
      ]
     },
     "metadata": {},
     "output_type": "display_data"
    }
   ],
   "source": [
    "import numpy as np\n",
    "\n",
    "def temperatura_FME(Ta, Tb, Tc, Td, Te, Tf, tol=1.e-8, maxIter = 100, h=0.5, T0=25.5, hotpoints = []):\n",
    "    #INPUT:\n",
    "    #En aquesta funció podem introduïr les tempeartures incials de les parets,\n",
    "    #La tolerància del mètode, el nombre màxim d'iteracions, la mida de la\n",
    "    # malla i la temperatura inicial del sistema.\n",
    "\n",
    "    #OUTPUT:\n",
    "    #Escriu per pantalla el nombre de nodes calculats\n",
    "    N, M, P = int(np.trunc(134/h)), int(np.trunc(64/h)), int(np.trunc(6/h))\n",
    "    a, b = 0, N\n",
    "    c, d = 0, M\n",
    "    e, f = 0, P\n",
    "    print(f\"Nodes: {N*M*P}\")\n",
    "    u = T0*np.ones((N+1,M+1,P+1))\n",
    "    S = int(np.trunc(21/h))\n",
    "    T = int(np.trunc(12/h))\n",
    "\n",
    "    \n",
    "    # Imposem les condicions de frontera i els punts d'intersecció\n",
    "    u[:,0,:] = Tc  # Frontera TC\n",
    "    u[S:N-S+1,M-T+1,:] = Tc  # Frontera Tc\n",
    "    u[0,:,:] = Tb  # Frontera TB\n",
    "    u[N-S+1,T:M-T+1,:] = Tb  # Frontera Tb\n",
    "    u[:,-1,:] = Ta # Frontera TA\n",
    "    u[S:N-S+1,T,:] = Ta # Frontera Ta\n",
    "    u[-1,:,:] = Td # Frontera TD\n",
    "    u[S,T:M-T+1,:] = Td # Frontera Td\n",
    "    u[:,:,-1] = Te # Frontera Te\n",
    "    u[:,:,0] = Tf # Frontera Tf\n",
    "\n",
    "    u[S,T,:] = (Tc + Td)/2\n",
    "    u[S,M-T+1,:] = (Td + Ta)/2\n",
    "    u[N-S+1,T,:] = (Tb + Tc)/2\n",
    "    u[N-S+1,M-T+1,:] = (Ta + Tb)/2\n",
    "\n",
    "    u0 = u.copy()\n",
    "    um = 1\n",
    "    k = 0\n",
    "    \n",
    "    while  um > tol and k <= maxIter:\n",
    "        u[1:S-1,1:-1,1:-1] = (u0[2:S,1:-1,1:-1] + u0[:S-2,1:-1,1:-1] + u0[1:S-1,2:,1:-1] + u0[1:S-1,:-2,1:-1] + u0[1:S-1,1:-1,:-2] + u0[1:S-1,1:-1,2:])/6 # Primer bloc (columna esquerra)\n",
    "        u[N-S:-1,1:-1,1:-1] = (u0[N-S+1:,1:-1,1:-1] + u0[N-S-1:-2,1:-1,1:-1] + u0[N-S:-1,2:,1:-1] + u0[N-S:-1,:-2,1:-1] + u0[N-S:-1,1:-1,2:] + u0[N-S:-1,1:-1,:-2])/6 # Segon bloc (columna dreta)\n",
    "        u[S-1:N-S,1:T-1,1:-1] = (u0[S-2:N-S-1,1:T-1,1:-1] + u0[S:N-S+1,1:T-1,1:-1] + u0[S-1:N-S,:T-2,1:-1] + u0[S-1:N-S,2:T,1:-1] + u0[S-1:N-S,1:T-1,:-2] + u0[S-1:N-S,1:T-1,2:])/6 # Tercer bloc (fila superior)\n",
    "        u[S-1:N-S,M-T:-1,1:-1] = (u0[S-2:N-S-1,M-T:-1,1:-1] + u0[S:N-S+1,M-T:-1,1:-1] + u0[S-1:N-S,M-T-1:-2,1:-1] + u0[S-1:N-S,M-T+1:,1:-1] + u0[S-1:N-S,M-T:-1,:-2] + u0[S-1:N-S,M-T:-1,2:])/6 # Quart bloc (fila inferior)\n",
    "        for point in hotpoints:\n",
    "            u[point[0]] = point[1]\n",
    "        um = np.amax(u0 - u)\n",
    "        u0 = u.copy()\n",
    "        k +=1\n",
    "    u[S:N-S, T:M-T, :] = np.nan\n",
    "    return u0, k\n",
    "\n",
    "#Blanca Ta Ta Tc Td Te Tf\n",
    "\n",
    "punt_calent = [np.array([40, 20, 1]), 30]\n",
    "\n",
    "\n",
    "u, k = temperatura_FME(20.1, 20.1, 30.9, 25.1, 33, 18, h=0.5, T0 = 25.5, tol=1.e-8, maxIter = 1.e4, hotpoints=[punt_calent])\n",
    "print(k)\n",
    "print (f\"{np.sum(u[:17,78:108,:6])/(17*30*6)}ºC\")\n",
    "plotFME(u)"
   ]
  },
  {
   "cell_type": "code",
   "execution_count": null,
   "id": "b7da8cd3",
   "metadata": {},
   "outputs": [],
   "source": []
  }
 ],
 "metadata": {
  "kernelspec": {
   "display_name": "Python 3",
   "language": "python",
   "name": "python3"
  },
  "language_info": {
   "codemirror_mode": {
    "name": "ipython",
    "version": 3
   },
   "file_extension": ".py",
   "mimetype": "text/x-python",
   "name": "python",
   "nbconvert_exporter": "python",
   "pygments_lexer": "ipython3",
   "version": "3.12.10"
  }
 },
 "nbformat": 4,
 "nbformat_minor": 5
}
