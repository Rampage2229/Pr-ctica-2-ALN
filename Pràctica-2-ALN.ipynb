{
 "cells": [
  {
   "cell_type": "markdown",
   "id": "96a084bf",
   "metadata": {},
   "source": [
    "# Exercici 0:\n",
    "\n",
    "\n",
    "\n"
   ]
  },
  {
   "cell_type": "markdown",
   "id": "b7627f02",
   "metadata": {},
   "source": [
    "Posem en una cel·la els codis dels mètodes de Jacobi, Gauss-Seidel i de $\\omega$-relaxació"
   ]
  },
  {
   "cell_type": "code",
   "execution_count": 49,
   "id": "c0ebe6fe",
   "metadata": {},
   "outputs": [],
   "source": [
    "import numpy as np\n",
    "\n",
    "def norma(u):\n",
    "    return np.sqrt(sum(u**2))\n",
    "\n",
    "def wrelax(A, b, x0, w, abstol=1.e-10, reltol=1.e-10, maxIter=1000):\n",
    "    Emin = min (reltol*norma(x0),abstol)\n",
    "    m, n = A.shape\n",
    "    x = x0.copy()\n",
    "    i = 0\n",
    "    acabat = False\n",
    "    while not acabat:\n",
    "        i = i + 1\n",
    "        x0 = x.copy()\n",
    "        for j in range(n):\n",
    "            x[j] = (1-w) * x[j] + (w/A[j,j]) * (b[j] - sum(A[j, :]*x[:]) + A[j,j]*x[j])\n",
    "        Emin = min (reltol*norma(x),Emin)\n",
    "        if((norma(x0 - x) < Emin) or i > maxIter):\n",
    "            acabat = True\n",
    "\n",
    "        if(i > maxIter):\n",
    "            if(norma(x0 - x) > abstol and norma(x0-x) / norma(x) < reltol):\n",
    "                return x, -1\n",
    "            if(norma(x0 - x) > abstol and norma(x0-x) / norma(x) > reltol):\n",
    "                return x, -2\n",
    "            return x, -3\n",
    "    return x, i\n",
    "\n",
    "def Jacobi(A,b, x, abstol=1.e-10, reltol=1.e-10, maxIter = 1000):\n",
    "  n = x.size\n",
    "  xk = x.copy()\n",
    "  atol = False\n",
    "  rtol = False\n",
    "  for k in range (maxIter):\n",
    "    s = 0\n",
    "    for i in range (n):\n",
    "      s = sum(A[i,:]*x[:])\n",
    "      s -= A[i,i]*x[i]\n",
    "      xk[i] = 1/(A[i,i])*(b[i] - s)\n",
    "    if atol == False and norma(xk - x) < abstol:\n",
    "      atol = True\n",
    "    if rtol == False and norma(xk-x)/norma(xk) < reltol:\n",
    "      rtol = True\n",
    "    if (atol and rtol):\n",
    "      return xk, k\n",
    "    x = xk.copy()\n",
    "  if rtol:\n",
    "    return xk, -1\n",
    "  elif atol:\n",
    "    return xk, -2\n",
    "  return xk, -3"
   ]
  },
  {
   "cell_type": "markdown",
   "id": "09c3d4f7",
   "metadata": {},
   "source": [
    "Creem la matriu A i els vectors b i $x_0$. Després apliquem els codis dels dos mètodes.\n",
    "\n",
    "En el cas del mètode de Gauss-Seidel donem a $\\omega$ el valor  $\\omega = 1$ ja que aquest mètode es pot fer com a un cas particular del de $\\omega$-relaxació ($\\omega = 1$).\n",
    "\n",
    "En darrer lloc, trobem el valor de $\\omega$ òptim per resoldre el sistema de $\\omega$-relaxació i donem el nombre d'iteracions."
   ]
  },
  {
   "cell_type": "code",
   "execution_count": 50,
   "id": "120d5869",
   "metadata": {},
   "outputs": [
    {
     "name": "stdout",
     "output_type": "stream",
     "text": [
      "El mètode de Jacobi resol el sistema amb 373 iteracions.\n",
      "El mètode de Gauss-Seidel resol el sistema amb 194 iteracions.\n",
      "El w òptim és w = 1.493 i resol el sistema amb 38 iteracions.\n"
     ]
    }
   ],
   "source": [
    "A = np.zeros((8,8), dtype = np.float64) #Creem la matriu A del sistema.\n",
    "for i in range (8):\n",
    "    A[i,i] = 2\n",
    "for i in range (7):\n",
    "    A[i,i+1] = -1\n",
    "    A[i+1,i] = -1\n",
    "\n",
    "b = np.array([1,1,1,1,1,1,1,1], dtype = np.float64)\n",
    "x = np.array([1,1,1,1,1,1,1,1], dtype = np.float64)\n",
    "\n",
    "a, Jk = Jacobi(A,b,x)\n",
    "a, GSk = wrelax(A,b,x,1) # Apliquem el mètode de relaxació amb omega=1\n",
    "\n",
    "print (f\"El mètode de Jacobi resol el sistema amb {Jk} iteracions.\")\n",
    "print (f\"El mètode de Gauss-Seidel resol el sistema amb {GSk} iteracions.\") \n",
    "\n",
    "wmin = 0.02\n",
    "iteracions = 10000\n",
    "for i in range (1999):\n",
    "  w = (i + 1)/1000\n",
    "  M = A.copy()\n",
    "  B = b.copy()\n",
    "  X = x.copy()\n",
    "  a, k = wrelax(A,b,x,w)\n",
    "  if (k < iteracions and k > 0):\n",
    "    iteracions = k\n",
    "    wmin = w\n",
    "print (f\"El w òptim és w = {wmin} i resol el sistema amb {iteracions} iteracions.\")"
   ]
  },
  {
   "cell_type": "markdown",
   "id": "9701532e",
   "metadata": {},
   "source": [
    "Veiem doncs que farem 373 iteracions amb el mètode de Jacobi i 194 si el fem amb el mètode de Gauss-Seidel. Mentre que amb el mètode de $\\omega$-relaxació hem aconseguit resoldre el sistema amb només 38 iteracions, sent $\\omega_{opt}= 1,493$ el valor de $\\omega$ òptim.\n"
   ]
  },
  {
   "cell_type": "markdown",
   "id": "a6c9dbdc",
   "metadata": {},
   "source": [
    "# Exercici 1\n",
    "Cal crear una funció que resolgui una EDO, donada una funció F."
   ]
  },
  {
   "cell_type": "code",
   "execution_count": 51,
   "id": "08e12e5d",
   "metadata": {},
   "outputs": [
    {
     "data": {
      "image/png": "[encoded data removed]",
      "text/plain": [
       "<Figure size 600x500 with 1 Axes>"
      ]
     },
     "metadata": {},
     "output_type": "display_data"
    },
    {
     "name": "stdout",
     "output_type": "stream",
     "text": [
      "Aproximaxió de f(pi): 2.9674011002719896\n"
     ]
    }
   ],
   "source": [
    "import numpy as np\n",
    "import math\n",
    "import matplotlib.pyplot as plt\n",
    "def solEstEq1D(a, b, ca, cb, N, F, maxIter=1.e5, tol=1.e-10):\n",
    "    #On a i b són els extrems del interval, i ca i cb són els punts extrems\n",
    "    #Definim el vector u i l'inicialitzem:\n",
    "    u0 = (ca + cb) / 2\n",
    "    u = np.full((N+1), u0, dtype=np.float64)\n",
    "    u[0] = ca\n",
    "    u[-1] = cb\n",
    "    Fi = np.empty((N+1), dtype=np.float64)\n",
    "    delta = (b - a)/N\n",
    "    for i in range(N+1):\n",
    "        Fi[i] = F(a + delta*i)\n",
    "\n",
    "    for i in range(int(maxIter)):\n",
    "        u[1:N] = (u[:N-1]+u[2:] + delta**2 * Fi[1:N])/2\n",
    "    return(u, 0)\n",
    "\n",
    "\n",
    "\n",
    "\n",
    "def dibuixaSol1D(u,a,b,titol='Exemple'):\n",
    "    # Nombre de punts:\n",
    "    Nplus1 = u.shape[0]\n",
    "\n",
    "    # Malla equiespaiada:\n",
    "    x = np.linspace(a,b,Nplus1)\n",
    "\n",
    "    # Obrim la Figura i dibuixem:\n",
    "    plt.figure(figsize=(6, 5))\n",
    "\n",
    "    # Plot:\n",
    "    plt.plot(x, u, label=\"Solució\", color=\"b\", linewidth=2)\n",
    "\n",
    "    # Eixos i llegenda\n",
    "    plt.xlabel(\"x\")\n",
    "    plt.ylabel(\"u(x)\")\n",
    "    plt.title(titol)\n",
    "    plt.grid(True)\n",
    "    plt.legend()\n",
    "\n",
    "    # Mostrem el dibuix:\n",
    "    plt.show()\n",
    "\n",
    "def funcio(x):\n",
    "    return np.sin(x)**2\n",
    "\n",
    "N = 100\n",
    "a,b = 0, 2*np.pi\n",
    "ca,cb = 0,1\n",
    "\n",
    "u,niter = solEstEq1D(a, b, ca, cb, N, funcio, maxIter = 1.e5)\n",
    "dibuixaSol1D(u,a,b)\n",
    "print(f\"Aproximaxió de f(pi): {(u[50])}\")\n"
   ]
  },
  {
   "cell_type": "code",
   "execution_count": 52,
   "id": "027ae33e",
   "metadata": {},
   "outputs": [
    {
     "data": {
      "image/png": "[encoded data removed]",
      "text/plain": [
       "<Figure size 600x500 with 1 Axes>"
      ]
     },
     "metadata": {},
     "output_type": "display_data"
    },
    {
     "name": "stdout",
     "output_type": "stream",
     "text": [
      "Aproximaxió de f(pi): 2.9674011002719896\n"
     ]
    }
   ],
   "source": [
    "def funcio2(x):\n",
    "    return np.sin(x)**2\n",
    "\n",
    "N = 100\n",
    "a,b = 0, 2*np.pi\n",
    "ca,cb = 0,1\n",
    "\n",
    "u,niter = solEstEq1D(a, b, ca, cb, N, funcio2, maxIter = 1.e5)\n",
    "dibuixaSol1D(u,a,b)\n",
    "print(f\"Aproximaxió de f(pi): {(u[50])}\")\n"
   ]
  },
  {
   "cell_type": "markdown",
   "id": "c79f464d",
   "metadata": {},
   "source": [
    "# Exercici 2:"
   ]
  },
  {
   "cell_type": "markdown",
   "id": "eb5f3bc8",
   "metadata": {},
   "source": [
    "Primer, posem el codi de la funció plotFME amb la qual representarem la temperatura de la FME."
   ]
  },
  {
   "cell_type": "code",
   "execution_count": 53,
   "id": "dda9c051",
   "metadata": {},
   "outputs": [],
   "source": [
    "import numpy as np\n",
    "import matplotlib.pyplot as plt\n",
    "from ipywidgets import interact, FloatSlider\n",
    "\n",
    "def plotFME(U,umin=None, umax=None):\n",
    "    \"\"\"\n",
    "    Visualització interactiva de la temperatura de la FME\n",
    "\n",
    "    Paràmetres:\n",
    "    -----------\n",
    "    U : array 3D\n",
    "        Dades a visualitzar (shape: [N+1, M+1, P+1], suposem N > M)\n",
    "    umin, umax : float\n",
    "        Valors màxims per la colorbar (si és None, s'autoajusten)\n",
    "    \"\"\"\n",
    "    # Dimensions u:\n",
    "    Np1,Mp1,Pp1 = U.shape\n",
    "\n",
    "\n",
    "    # Dimensions de la FME:\n",
    "    x = np.linspace(0, 134, num=Np1)\n",
    "    y = np.linspace(0, 64, num=Mp1)\n",
    "    X, Y = np.meshgrid(x, y)\n",
    "\n",
    "    # Recuperem el factor:\n",
    "    P = Pp1-1\n",
    "    scale = P/6;\n",
    "\n",
    "    # Determinem els límits de les temperatures\n",
    "    if umin is None:\n",
    "        umin = np.nanmin(U)\n",
    "    if umax is None:\n",
    "        umax = np.nanmax(U)\n",
    "\n",
    "    # Funció per actualitzar l'slider\n",
    "    def update(index=0):\n",
    "        plt.figure(figsize=(14, 6))\n",
    "\n",
    "        v = U[:, :, int(index*scale)]\n",
    "\n",
    "        # Mapa de colors:\n",
    "        plot = plt.pcolor(X, Y, v.T, cmap='RdBu_r', vmin=umin, vmax=umax)\n",
    "\n",
    "        # Corbes de nivell\n",
    "        cset = plt.contour(X, Y, v.T, cmap='gray', levels=np.linspace(umin, umax, 10))\n",
    "        plt.clabel(cset, inline=True)\n",
    "\n",
    "        # Ajustem aspecte\n",
    "        plt.gca().set_aspect('equal', adjustable='box')\n",
    "        plt.title(f'Alçada: {index} m')\n",
    "\n",
    "        # Afegim colorbar\n",
    "        plt.colorbar(plot, label='Valor')\n",
    "        plt.show()\n",
    "\n",
    "    # Creem slider interactiu\n",
    "    interact(\n",
    "        update,\n",
    "        index=FloatSlider(\n",
    "            min=0,\n",
    "            max=6,\n",
    "            step=1/scale,\n",
    "            value=0,  # Valor inicial\n",
    "            description='Alçada:',\n",
    "            continuous_update=False  # Només s'actualitza al deixar anar l'slider\n",
    "        )\n",
    "    )"
   ]
  },
  {
   "cell_type": "markdown",
   "id": "2845f56f",
   "metadata": {},
   "source": [
    "Ara, podem crear una funció que, donades les condicions inicials, simuli la temperatura de la FME. En el nostre cas, per diversió, hem afegit unes quantes funcions extres per enriquir la capacitat de simulació del programa. El codi és el següent:"
   ]
  },
  {
   "cell_type": "code",
   "execution_count": null,
   "id": "57077ed0",
   "metadata": {},
   "outputs": [
    {
     "name": "stdout",
     "output_type": "stream",
     "text": [
      "RAMON:\n",
      "Nombre d'iteracions: 1433. Temperatura aula PC2: 20.612333995997496\n"
     ]
    },
    {
     "data": {
      "application/vnd.jupyter.widget-view+json": {
       "model_id": "fe382ff22bba4c2c983fc41202b3a074",
       "version_major": 2,
       "version_minor": 0
      },
      "text/plain": [
       "interactive(children=(FloatSlider(value=0.0, continuous_update=False, description='Alçada:', max=6.0, step=0.5…"
      ]
     },
     "metadata": {},
     "output_type": "display_data"
    },
    {
     "name": "stdout",
     "output_type": "stream",
     "text": [
      "RUBEN:\n",
      "Nombre d'iteracions: 1431. Temperatura aula PC2: 20.631465514896338\n"
     ]
    },
    {
     "data": {
      "application/vnd.jupyter.widget-view+json": {
       "model_id": "b2424cfcd62f415285981fa5f18f6999",
       "version_major": 2,
       "version_minor": 0
      },
      "text/plain": [
       "interactive(children=(FloatSlider(value=0.0, continuous_update=False, description='Alçada:', max=6.0, step=0.5…"
      ]
     },
     "metadata": {},
     "output_type": "display_data"
    }
   ],
   "source": [
    "import numpy as np\n",
    "\n",
    "def temperatura_FME(Ta, Tb, Tc, Td, Te, Tf, tol=1.e-8, maxIter = 100, h=0.5, T0=25.5, hotpoints = []):\n",
    "    #INPUT:\n",
    "    #En aquesta funció podem introduïr les tempeartures incials de les parets,\n",
    "    #La tolerància del mètode, el nombre màxim d'iteracions, la mida de la\n",
    "    # malla i la temperatura inicial del sistema.\n",
    "\n",
    "    #OUTPUT:\n",
    "    #Retorna el nombre d'iteracions juntament amb l'array u amb les temperatures finals de la FME.\n",
    "    N, M, P = int(np.trunc(134/h)), int(np.trunc(64/h)), int(np.trunc(6/h))\n",
    "    a, b = 0, N\n",
    "    c, d = 0, M\n",
    "    e, f = 0, P\n",
    "    #print(f\"Nodes: {N*M*P}\")\n",
    "    u = T0*np.ones((N+1,M+1,P+1))\n",
    "    S = int(np.trunc(21/h))\n",
    "    T = int(np.trunc(12/h))\n",
    "\n",
    "    \n",
    "    # Imposem les condicions de frontera i els punts d'intersecció\n",
    "    u[:,0,:] = Tc  # Frontera TC\n",
    "    u[S:N-S+1,M-T+1,:] = Tc  # Frontera Tc\n",
    "    u[0,:,:] = Tb  # Frontera TB\n",
    "    u[N-S+1,T:M-T+1,:] = Tb  # Frontera Tb\n",
    "    u[:,-1,:] = Ta # Frontera TA\n",
    "    u[S:N-S+1,T,:] = Ta # Frontera Ta\n",
    "    u[-1,:,:] = Td # Frontera TD\n",
    "    u[S,T:M-T+1,:] = Td # Frontera Td\n",
    "    u[:,:,-1] = Te # Frontera Te\n",
    "    u[:,:,0] = Tf # Frontera Tf\n",
    "\n",
    "    u[S,T,1:-1] = (Tc + Td)/2\n",
    "    u[S,M-T+1,1:-1] = (Td + Ta)/2\n",
    "    u[N-S+1,T,1:-1] = (Tb + Tc)/2\n",
    "    u[N-S+1,M-T+1,1:-1] = (Ta + Tb)/2\n",
    "\n",
    "    u0 = u.copy()\n",
    "    um = 1\n",
    "    k = 0\n",
    "    \n",
    "    while  um > tol and k <= maxIter:\n",
    "        u[1:S-1,1:-1,1:-1] = (u0[2:S,1:-1,1:-1] + u0[:S-2,1:-1,1:-1] + u0[1:S-1,2:,1:-1] + u0[1:S-1,:-2,1:-1] + u0[1:S-1,1:-1,:-2] + u0[1:S-1,1:-1,2:])/6 # Primer bloc (columna esquerra)\n",
    "        u[N-S:-1,1:-1,1:-1] = (u0[N-S+1:,1:-1,1:-1] + u0[N-S-1:-2,1:-1,1:-1] + u0[N-S:-1,2:,1:-1] + u0[N-S:-1,:-2,1:-1] + u0[N-S:-1,1:-1,2:] + u0[N-S:-1,1:-1,:-2])/6 # Segon bloc (columna dreta)\n",
    "        u[S-1:N-S,1:T-1,1:-1] = (u0[S-2:N-S-1,1:T-1,1:-1] + u0[S:N-S+1,1:T-1,1:-1] + u0[S-1:N-S,:T-2,1:-1] + u0[S-1:N-S,2:T,1:-1] + u0[S-1:N-S,1:T-1,:-2] + u0[S-1:N-S,1:T-1,2:])/6 # Tercer bloc (fila superior)\n",
    "        u[S-1:N-S,M-T:-1,1:-1] = (u0[S-2:N-S-1,M-T:-1,1:-1] + u0[S:N-S+1,M-T:-1,1:-1] + u0[S-1:N-S,M-T-1:-2,1:-1] + u0[S-1:N-S,M-T+1:,1:-1] + u0[S-1:N-S,M-T:-1,:-2] + u0[S-1:N-S,M-T:-1,2:])/6 # Quart bloc (fila inferior)\n",
    "        #Part (no necessaria) per ficar fonts de calor de radi r\n",
    "        for point in hotpoints:\n",
    "            u[point[0][0] - point[2] : point[0][0] + point[2], point[0][1] - point[2] : point[0][1] + point[2], point[0][2] - point[2] : point[0][2] + point[2]] = point[1]\n",
    "        \n",
    "\n",
    "        um = np.amax(abs(u0 - u))\n",
    "        u0 = u.copy()\n",
    "        k +=1\n",
    "    u[S:N-S, T:M-T, :] = np.nan\n",
    "    return u0, k\n",
    "\n",
    "\n",
    "u_Ramon, k_Ramon = temperatura_FME(20.5, 20.5, 30.4, 25.3, 33, 18, h=0.5, T0 = 25.5, tol=1.e-10, maxIter = 1.e4)\n",
    "u_Ruben, k_Ruben = temperatura_FME(20.6, 20.6, 31.0, 27.3, 33, 18, h=0.5, T0 = 25.5, tol=1.e-10, maxIter = 1.e4)\n",
    "T_Ramon = np.sum(u_Ramon[:17,78:108,:6])/(17*30*6)\n",
    "T_Ruben = np.sum(u_Ruben[:17,78:108,:6])/(17*30*6)\n",
    "print(\"RAMON:\")\n",
    "print(f\"Nombre d'iteracions: {k_Ramon}. Temperatura aula PC2: {T_Ramon}\")\n",
    "plotFME(u_Ramon)\n",
    "print(\"RUBEN:\")\n",
    "print(f\"Nombre d'iteracions: {k_Ruben}. Temperatura aula PC2: {T_Ruben}\")\n",
    "plotFME(u_Ruben)\n",
    "\n",
    "\n",
    "#Part comentada: Petit test que simula la precència de fonts de calor (o fred) en la FME\n",
    "\n",
    "# Forma de ficar un hotpoint:  hotpoint = [np.array([node_x, node_y, node_z]), Temperatura, Radi]\n",
    "# I pots ficar tants com vulguis! Només cal assegurar que els fiques tots en el parametre hotpoints. És bastant divertit\n",
    "\n",
    "\n",
    "#calent = [np.array([20, 20, 6]), 30, 2]\n",
    "#fred = [np.array([220, 10, 3]), 10, 2]\n",
    "# u_Test, k_Test = temperatura_FME(20.5, 20.5, 30.4, 25.3, 33, 18, h=0.5, T0 = 25.5, tol=1.e-12, maxIter = 1.e4, hotpoints=[calent, fred])\n",
    "# plotFME(u_Test)\n"
   ]
  },
  {
   "cell_type": "markdown",
   "id": "78c31c2f",
   "metadata": {},
   "source": [
    "Finalment, concluim dient que la temperatura mitjana de l'aula PC2 de la FME és de 20.612333995997496ºC per a les temperatures assignades al Ramon i de 20.631465514896338ºC per a les temperatures assignades al Rubén."
   ]
  }
 ],
 "metadata": {
  "kernelspec": {
   "display_name": "Python 3",
   "language": "python",
   "name": "python3"
  },
  "language_info": {
   "codemirror_mode": {
    "name": "ipython",
    "version": 3
   },
   "file_extension": ".py",
   "mimetype": "text/x-python",
   "name": "python",
   "nbconvert_exporter": "python",
   "pygments_lexer": "ipython3",
   "version": "3.11.9"
  }
 },
 "nbformat": 4,
 "nbformat_minor": 5
}
